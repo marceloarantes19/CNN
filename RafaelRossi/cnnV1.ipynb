{
 "cells": [
  {
   "cell_type": "code",
   "execution_count": 49,
   "metadata": {},
   "outputs": [],
   "source": [
    "import tensorflow as tf\n",
    "import matplotlib.pyplot as plt\n",
    "import numpy as np \n",
    "from keras.datasets import cifar10\n",
    "from keras import Sequential\n",
    "from keras.layers import Conv2D, MaxPooling2D, Dense, Flatten, Dropout"
   ]
  },
  {
   "cell_type": "code",
   "execution_count": 24,
   "metadata": {},
   "outputs": [],
   "source": [
    "# carregando as bases de dados\n",
    "(XTrain, yTrain), (XTest, yTest) = cifar10.load_data()"
   ]
  },
  {
   "cell_type": "code",
   "execution_count": 3,
   "metadata": {},
   "outputs": [],
   "source": [
    "classNames = ['Airplane', 'Automobile', 'Bird', 'Cat', 'Deer', 'Dog', 'Frog', 'Horse', 'Ship', 'Truck']"
   ]
  },
  {
   "cell_type": "code",
   "execution_count": 5,
   "metadata": {},
   "outputs": [],
   "source": [
    "# Padronizando os valores das imagens \n",
    "#XTrain = XTrain / 255.0\n",
    "#XTest = XTest / 255.0"
   ]
  },
  {
   "cell_type": "code",
   "execution_count": 61,
   "metadata": {},
   "outputs": [],
   "source": [
    "model = Sequential()"
   ]
  },
  {
   "cell_type": "code",
   "execution_count": 62,
   "metadata": {},
   "outputs": [],
   "source": [
    "model.add(Conv2D(32, (3,3), activation='relu', input_shape=[32,32,3]))\n",
    "model.add(MaxPooling2D(pool_size=(2,2), strides=2))\n",
    "model.add(Conv2D(32, (3,3), activation='relu'))\n",
    "model.add(MaxPooling2D(pool_size=(2,2), strides=2))\n",
    "model.add(Conv2D(32, (3,3), activation='relu'))\n",
    "model.add(MaxPooling2D(pool_size=(2,2), strides=2))\n",
    "model.add(Flatten())\n",
    "model.add(Dense(units=1024, activation='relu'))\n",
    "model.add(Dense(units=10, activation='softmax'))"
   ]
  },
  {
   "cell_type": "code",
   "execution_count": 63,
   "metadata": {},
   "outputs": [
    {
     "name": "stdout",
     "output_type": "stream",
     "text": [
      "Model: \"sequential_12\"\n",
      "_________________________________________________________________\n",
      " Layer (type)                Output Shape              Param #   \n",
      "=================================================================\n",
      " conv2d_37 (Conv2D)          (None, 30, 30, 32)        896       \n",
      "                                                                 \n",
      " max_pooling2d_31 (MaxPoolin  (None, 15, 15, 32)       0         \n",
      " g2D)                                                            \n",
      "                                                                 \n",
      " conv2d_38 (Conv2D)          (None, 13, 13, 32)        9248      \n",
      "                                                                 \n",
      " max_pooling2d_32 (MaxPoolin  (None, 6, 6, 32)         0         \n",
      " g2D)                                                            \n",
      "                                                                 \n",
      " conv2d_39 (Conv2D)          (None, 4, 4, 32)          9248      \n",
      "                                                                 \n",
      " max_pooling2d_33 (MaxPoolin  (None, 2, 2, 32)         0         \n",
      " g2D)                                                            \n",
      "                                                                 \n",
      " flatten_10 (Flatten)        (None, 128)               0         \n",
      "                                                                 \n",
      " dense_19 (Dense)            (None, 1024)              132096    \n",
      "                                                                 \n",
      " dense_20 (Dense)            (None, 10)                10250     \n",
      "                                                                 \n",
      "=================================================================\n",
      "Total params: 161,738\n",
      "Trainable params: 161,738\n",
      "Non-trainable params: 0\n",
      "_________________________________________________________________\n"
     ]
    }
   ],
   "source": [
    "model.summary()"
   ]
  },
  {
   "cell_type": "code",
   "execution_count": 64,
   "metadata": {},
   "outputs": [],
   "source": [
    "# compilando o Modelo\n",
    "model.compile(optimizer='adam', loss='sparse_categorical_crossentropy', metrics=['accuracy'])"
   ]
  },
  {
   "cell_type": "code",
   "execution_count": 65,
   "metadata": {},
   "outputs": [
    {
     "name": "stdout",
     "output_type": "stream",
     "text": [
      "Epoch 1/15\n",
      "1563/1563 [==============================] - 27s 17ms/step - loss: 1.8104 - accuracy: 0.3472\n",
      "Epoch 2/15\n",
      "1563/1563 [==============================] - 30s 19ms/step - loss: 1.5346 - accuracy: 0.4423\n",
      "Epoch 3/15\n",
      "1563/1563 [==============================] - 30s 19ms/step - loss: 1.4296 - accuracy: 0.4863\n",
      "Epoch 4/15\n",
      "1563/1563 [==============================] - 30s 19ms/step - loss: 1.3426 - accuracy: 0.5230\n",
      "Epoch 5/15\n",
      "1563/1563 [==============================] - 30s 19ms/step - loss: 1.2625 - accuracy: 0.5540\n",
      "Epoch 6/15\n",
      "1563/1563 [==============================] - 30s 19ms/step - loss: 1.1960 - accuracy: 0.5772\n",
      "Epoch 7/15\n",
      "1563/1563 [==============================] - 30s 19ms/step - loss: 1.1359 - accuracy: 0.5981\n",
      "Epoch 8/15\n",
      "1563/1563 [==============================] - 30s 19ms/step - loss: 1.0852 - accuracy: 0.6207\n",
      "Epoch 9/15\n",
      "1563/1563 [==============================] - 31s 20ms/step - loss: 1.0366 - accuracy: 0.6356\n",
      "Epoch 10/15\n",
      "1563/1563 [==============================] - 30s 19ms/step - loss: 0.9858 - accuracy: 0.6520\n",
      "Epoch 11/15\n",
      "1563/1563 [==============================] - 32s 21ms/step - loss: 0.9494 - accuracy: 0.6665\n",
      "Epoch 12/15\n",
      "1563/1563 [==============================] - 29s 19ms/step - loss: 0.9026 - accuracy: 0.6814\n",
      "Epoch 13/15\n",
      "1563/1563 [==============================] - 32s 20ms/step - loss: 0.8594 - accuracy: 0.6991\n",
      "Epoch 14/15\n",
      "1563/1563 [==============================] - 32s 20ms/step - loss: 0.8304 - accuracy: 0.7076\n",
      "Epoch 15/15\n",
      "1563/1563 [==============================] - 31s 20ms/step - loss: 0.7934 - accuracy: 0.7209\n"
     ]
    },
    {
     "data": {
      "text/plain": [
       "<keras.callbacks.History at 0x2651e6f84f0>"
      ]
     },
     "execution_count": 65,
     "metadata": {},
     "output_type": "execute_result"
    }
   ],
   "source": [
    "# treinando o modelo\n",
    "model.fit(XTrain, yTrain, epochs=15)"
   ]
  },
  {
   "cell_type": "code",
   "execution_count": null,
   "metadata": {},
   "outputs": [],
   "source": []
  }
 ],
 "metadata": {
  "kernelspec": {
   "display_name": "Python 3.10.5 64-bit",
   "language": "python",
   "name": "python3"
  },
  "language_info": {
   "codemirror_mode": {
    "name": "ipython",
    "version": 3
   },
   "file_extension": ".py",
   "mimetype": "text/x-python",
   "name": "python",
   "nbconvert_exporter": "python",
   "pygments_lexer": "ipython3",
   "version": "3.10.5"
  },
  "orig_nbformat": 4,
  "vscode": {
   "interpreter": {
    "hash": "fd6160a56bbbcae204042810bac3dc36d5d2e37006cb7dd96bc9f7c6f62832ae"
   }
  }
 },
 "nbformat": 4,
 "nbformat_minor": 2
}
