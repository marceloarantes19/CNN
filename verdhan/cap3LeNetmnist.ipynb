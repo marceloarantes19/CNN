{
 "cells": [
  {
   "cell_type": "code",
   "execution_count": 39,
   "metadata": {},
   "outputs": [],
   "source": [
    "import matplotlib.pyplot as plt\n",
    "import numpy as np\n",
    "import tensorflow as tf\n",
    "from keras import backend as K\n",
    "from keras import utils as utls\n",
    "from keras.datasets import mnist\n",
    "from keras.models import Sequential \n",
    "from keras.layers import Conv2D, MaxPooling2D, Activation, Flatten, Dense"
   ]
  },
  {
   "cell_type": "code",
   "execution_count": 40,
   "metadata": {},
   "outputs": [],
   "source": [
    "# Definição de Hiperparâmetros\n",
    "imageRows, imageCols = 28, 28\n",
    "batchSize = 256\n",
    "numClasses = 10\n",
    "epochs = 3"
   ]
  },
  {
   "cell_type": "code",
   "execution_count": 41,
   "metadata": {},
   "outputs": [],
   "source": [
    "# Carregando o dataset\n",
    "(XTrain, yTrain), (XTest, yTest) = mnist.load_data()"
   ]
  },
  {
   "cell_type": "code",
   "execution_count": 42,
   "metadata": {},
   "outputs": [],
   "source": [
    "XTrain = XTrain.astype('float32')\n",
    "XTest = XTest.astype('float32')\n",
    "XTrain = XTrain / 255.0\n",
    "XTest = XTest / 255.0"
   ]
  },
  {
   "cell_type": "code",
   "execution_count": 43,
   "metadata": {},
   "outputs": [],
   "source": [
    "yTrain = utls.to_categorical(yTrain, numClasses)\n",
    "yTest = utls.to_categorical(yTest, numClasses)"
   ]
  },
  {
   "cell_type": "code",
   "execution_count": 44,
   "metadata": {},
   "outputs": [],
   "source": [
    "if K.image_data_format() == 'channels_first':\n",
    "  XTrain = XTrain.reshape(XTrain.shape[0], 1, imageRows, imageCols)\n",
    "  XTest = XTest.reshape(XTest.shape[0], 1, imageRows, imageCols)\n",
    "  inputShape = (1, imageRows, imageCols)\n",
    "else:\n",
    "  XTrain = XTrain.reshape(XTrain.shape[0], imageRows, imageCols, 1)\n",
    "  XTest = XTest.reshape(XTest.shape[0], imageRows, imageCols, 1)\n",
    "  inputShape = (imageRows, imageCols, 1)\n"
   ]
  },
  {
   "cell_type": "code",
   "execution_count": 56,
   "metadata": {},
   "outputs": [
    {
     "name": "stdout",
     "output_type": "stream",
     "text": [
      "Model: \"sequential_9\"\n",
      "_________________________________________________________________\n",
      " Layer (type)                Output Shape              Param #   \n",
      "=================================================================\n",
      " conv2d_18 (Conv2D)          (None, 28, 28, 20)        520       \n",
      "                                                                 \n",
      " activation_30 (Activation)  (None, 28, 28, 20)        0         \n",
      "                                                                 \n",
      " max_pooling2d_18 (MaxPoolin  (None, 14, 14, 20)       0         \n",
      " g2D)                                                            \n",
      "                                                                 \n",
      " conv2d_19 (Conv2D)          (None, 14, 14, 50)        25050     \n",
      "                                                                 \n",
      " activation_31 (Activation)  (None, 14, 14, 50)        0         \n",
      "                                                                 \n",
      " max_pooling2d_19 (MaxPoolin  (None, 7, 7, 50)         0         \n",
      " g2D)                                                            \n",
      "                                                                 \n",
      " flatten_9 (Flatten)         (None, 2450)              0         \n",
      "                                                                 \n",
      " dense_17 (Dense)            (None, 500)               1225500   \n",
      "                                                                 \n",
      " activation_32 (Activation)  (None, 500)               0         \n",
      "                                                                 \n",
      " dense_18 (Dense)            (None, 10)                5010      \n",
      "                                                                 \n",
      " activation_33 (Activation)  (None, 10)                0         \n",
      "                                                                 \n",
      "=================================================================\n",
      "Total params: 1,256,080\n",
      "Trainable params: 1,256,080\n",
      "Non-trainable params: 0\n",
      "_________________________________________________________________\n"
     ]
    }
   ],
   "source": [
    "# Definindo o modelo LeNet\n",
    "model = Sequential()\n",
    "model.add(Conv2D(20, (5,5), padding='same', input_shape=inputShape))\n",
    "model.add(Activation('relu'))\n",
    "model.add(MaxPooling2D(pool_size=(2,2), strides=2))\n",
    "model.add(Conv2D(50, (5,5), padding='same'))\n",
    "model.add(Activation('relu'))\n",
    "model.add(MaxPooling2D(pool_size=(2,2), strides=2))\n",
    "model.add(Flatten())\n",
    "model.add(Dense(500))\n",
    "model.add(Activation('relu'))\n",
    "model.add(Dense(numClasses))\n",
    "model.add(Activation('softmax'))\n",
    "model.summary()"
   ]
  },
  {
   "cell_type": "code",
   "execution_count": 58,
   "metadata": {},
   "outputs": [],
   "source": [
    "# Compilação do modelo\n",
    "model.compile(optimizer=\"adam\", loss='categorical_crossentropy', metrics=['accuracy'])"
   ]
  },
  {
   "cell_type": "code",
   "execution_count": 59,
   "metadata": {},
   "outputs": [
    {
     "name": "stdout",
     "output_type": "stream",
     "text": [
      "Epoch 1/10\n",
      "235/235 [==============================] - 42s 177ms/step - loss: 0.2128 - accuracy: 0.9370 - val_loss: 0.0516 - val_accuracy: 0.9842\n",
      "Epoch 2/10\n",
      "235/235 [==============================] - 45s 192ms/step - loss: 0.0536 - accuracy: 0.9834 - val_loss: 0.0358 - val_accuracy: 0.9883\n",
      "Epoch 3/10\n",
      "235/235 [==============================] - 45s 192ms/step - loss: 0.0359 - accuracy: 0.9887 - val_loss: 0.0369 - val_accuracy: 0.9868\n",
      "Epoch 4/10\n",
      "235/235 [==============================] - 45s 194ms/step - loss: 0.0268 - accuracy: 0.9911 - val_loss: 0.0283 - val_accuracy: 0.9893\n",
      "Epoch 5/10\n",
      "235/235 [==============================] - 47s 199ms/step - loss: 0.0211 - accuracy: 0.9931 - val_loss: 0.0337 - val_accuracy: 0.9894\n",
      "Epoch 6/10\n",
      "235/235 [==============================] - 45s 193ms/step - loss: 0.0166 - accuracy: 0.9945 - val_loss: 0.0284 - val_accuracy: 0.9911\n",
      "Epoch 7/10\n",
      "235/235 [==============================] - 49s 207ms/step - loss: 0.0122 - accuracy: 0.9962 - val_loss: 0.0275 - val_accuracy: 0.9906\n",
      "Epoch 8/10\n",
      "235/235 [==============================] - 47s 202ms/step - loss: 0.0104 - accuracy: 0.9967 - val_loss: 0.0302 - val_accuracy: 0.9901\n",
      "Epoch 9/10\n",
      "235/235 [==============================] - 49s 210ms/step - loss: 0.0078 - accuracy: 0.9975 - val_loss: 0.0378 - val_accuracy: 0.9893\n",
      "Epoch 10/10\n",
      "235/235 [==============================] - 47s 201ms/step - loss: 0.0086 - accuracy: 0.9971 - val_loss: 0.0311 - val_accuracy: 0.9913\n"
     ]
    }
   ],
   "source": [
    "minhaLeNetModel = model.fit(XTrain, yTrain, batch_size=batchSize, epochs=epochs, validation_data=(XTest, yTest))"
   ]
  },
  {
   "cell_type": "code",
   "execution_count": 63,
   "metadata": {},
   "outputs": [
    {
     "data": {
      "text/plain": [
       "Text(0, 0.5, 'Acurácia')"
      ]
     },
     "execution_count": 63,
     "metadata": {},
     "output_type": "execute_result"
    },
    {
     "data": {
      "image/png": "[encoded data removed]",
      "text/plain": [
       "<Figure size 432x288 with 1 Axes>"
      ]
     },
     "metadata": {
      "needs_background": "light"
     },
     "output_type": "display_data"
    }
   ],
   "source": [
    "f, ax = plt.subplots()\n",
    "ax.plot(minhaLeNetModel.history['accuracy'], 'o-')\n",
    "ax.plot(minhaLeNetModel.history['val_accuracy'], 'x-')\n",
    "ax.legend(['Acurácia no Treinamento', 'Acurácia na Validação'], loc=0)\n",
    "ax.set_title('Treinamento e Validação - Acurácia por Época')\n",
    "ax.set_xlabel('Época')\n",
    "ax.set_ylabel('Acurácia')"
   ]
  },
  {
   "cell_type": "code",
   "execution_count": 64,
   "metadata": {},
   "outputs": [
    {
     "data": {
      "text/plain": [
       "Text(0, 0.5, 'Perda')"
      ]
     },
     "execution_count": 64,
     "metadata": {},
     "output_type": "execute_result"
    },
    {
     "data": {
      "image/png": "[encoded data removed]",
      "text/plain": [
       "<Figure size 432x288 with 1 Axes>"
      ]
     },
     "metadata": {
      "needs_background": "light"
     },
     "output_type": "display_data"
    }
   ],
   "source": [
    "f, ax = plt.subplots()\n",
    "ax.plot(minhaLeNetModel.history['loss'], 'o-')\n",
    "ax.plot(minhaLeNetModel.history['val_loss'], 'x-')\n",
    "ax.legend(['Perda no Treinamento', 'Perda na Validação'], loc=0)\n",
    "ax.set_title('Treinamento/Validação - Perda por Época')\n",
    "ax.set_xlabel('Época')\n",
    "ax.set_ylabel('Perda')"
   ]
  }
 ],
 "metadata": {
  "kernelspec": {
   "display_name": "Python 3.10.5 64-bit",
   "language": "python",
   "name": "python3"
  },
  "language_info": {
   "codemirror_mode": {
    "name": "ipython",
    "version": 3
   },
   "file_extension": ".py",
   "mimetype": "text/x-python",
   "name": "python",
   "nbconvert_exporter": "python",
   "pygments_lexer": "ipython3",
   "version": "3.10.5"
  },
  "orig_nbformat": 4,
  "vscode": {
   "interpreter": {
    "hash": "fd6160a56bbbcae204042810bac3dc36d5d2e37006cb7dd96bc9f7c6f62832ae"
   }
  }
 },
 "nbformat": 4,
 "nbformat_minor": 2
}
