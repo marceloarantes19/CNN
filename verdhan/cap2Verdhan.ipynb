{
  "cells": [
    {
      "cell_type": "code",
      "execution_count": 2,
      "metadata": {
        "id": "zqB6pERL4E0J"
      },
      "outputs": [],
      "source": [
        "import tensorflow as tf\n",
        "from keras.models import Sequential\n",
        "from keras.layers import Conv2D, Activation, MaxPooling2D, Dense, Flatten, Dropout\n",
        "from keras.preprocessing.image import ImageDataGenerator\n",
        "import pandas as pd\n",
        "import os"
      ]
    },
    {
      "cell_type": "code",
      "execution_count": 13,
      "metadata": {},
      "outputs": [
        {
          "data": {
            "text/html": [
              "<div>\n",
              "<style scoped>\n",
              "    .dataframe tbody tr th:only-of-type {\n",
              "        vertical-align: middle;\n",
              "    }\n",
              "\n",
              "    .dataframe tbody tr th {\n",
              "        vertical-align: top;\n",
              "    }\n",
              "\n",
              "    .dataframe thead th {\n",
              "        text-align: right;\n",
              "    }\n",
              "</style>\n",
              "<table border=\"1\" class=\"dataframe\">\n",
              "  <thead>\n",
              "    <tr style=\"text-align: right;\">\n",
              "      <th></th>\n",
              "      <th>arquivo</th>\n",
              "      <th>categoria</th>\n",
              "    </tr>\n",
              "  </thead>\n",
              "  <tbody>\n",
              "    <tr>\n",
              "      <th>0</th>\n",
              "      <td>cat.10000.jpg</td>\n",
              "      <td>cat</td>\n",
              "    </tr>\n",
              "    <tr>\n",
              "      <th>1</th>\n",
              "      <td>cat.10001.jpg</td>\n",
              "      <td>cat</td>\n",
              "    </tr>\n",
              "    <tr>\n",
              "      <th>2</th>\n",
              "      <td>cat.10002.jpg</td>\n",
              "      <td>cat</td>\n",
              "    </tr>\n",
              "    <tr>\n",
              "      <th>3</th>\n",
              "      <td>cat.10003.jpg</td>\n",
              "      <td>cat</td>\n",
              "    </tr>\n",
              "    <tr>\n",
              "      <th>4</th>\n",
              "      <td>cat.10004.jpg</td>\n",
              "      <td>cat</td>\n",
              "    </tr>\n",
              "    <tr>\n",
              "      <th>...</th>\n",
              "      <td>...</td>\n",
              "      <td>...</td>\n",
              "    </tr>\n",
              "    <tr>\n",
              "      <th>20995</th>\n",
              "      <td>dog.9995.jpg</td>\n",
              "      <td>dog</td>\n",
              "    </tr>\n",
              "    <tr>\n",
              "      <th>20996</th>\n",
              "      <td>dog.9996.jpg</td>\n",
              "      <td>dog</td>\n",
              "    </tr>\n",
              "    <tr>\n",
              "      <th>20997</th>\n",
              "      <td>dog.9997.jpg</td>\n",
              "      <td>dog</td>\n",
              "    </tr>\n",
              "    <tr>\n",
              "      <th>20998</th>\n",
              "      <td>dog.9998.jpg</td>\n",
              "      <td>dog</td>\n",
              "    </tr>\n",
              "    <tr>\n",
              "      <th>20999</th>\n",
              "      <td>dog.9999.jpg</td>\n",
              "      <td>dog</td>\n",
              "    </tr>\n",
              "  </tbody>\n",
              "</table>\n",
              "<p>21000 rows × 2 columns</p>\n",
              "</div>"
            ],
            "text/plain": [
              "             arquivo categoria\n",
              "0      cat.10000.jpg       cat\n",
              "1      cat.10001.jpg       cat\n",
              "2      cat.10002.jpg       cat\n",
              "3      cat.10003.jpg       cat\n",
              "4      cat.10004.jpg       cat\n",
              "...              ...       ...\n",
              "20995   dog.9995.jpg       dog\n",
              "20996   dog.9996.jpg       dog\n",
              "20997   dog.9997.jpg       dog\n",
              "20998   dog.9998.jpg       dog\n",
              "20999   dog.9999.jpg       dog\n",
              "\n",
              "[21000 rows x 2 columns]"
            ]
          },
          "execution_count": 13,
          "metadata": {},
          "output_type": "execute_result"
        }
      ],
      "source": [
        "fns = os.listdir(\"E:/Datasets/Kaggle/train\")\n",
        "categorias = []\n",
        "for fn in fns:\n",
        "  categorias.append(fn.split('.')[0])\n",
        "\n",
        "dfTrain = pd.DataFrame({\n",
        "  'arquivo': fns,\n",
        "  'categoria': categorias\n",
        "})\n",
        "dfTrain"
      ]
    },
    {
      "cell_type": "code",
      "execution_count": 14,
      "metadata": {},
      "outputs": [
        {
          "data": {
            "text/html": [
              "<div>\n",
              "<style scoped>\n",
              "    .dataframe tbody tr th:only-of-type {\n",
              "        vertical-align: middle;\n",
              "    }\n",
              "\n",
              "    .dataframe tbody tr th {\n",
              "        vertical-align: top;\n",
              "    }\n",
              "\n",
              "    .dataframe thead th {\n",
              "        text-align: right;\n",
              "    }\n",
              "</style>\n",
              "<table border=\"1\" class=\"dataframe\">\n",
              "  <thead>\n",
              "    <tr style=\"text-align: right;\">\n",
              "      <th></th>\n",
              "      <th>arquivo</th>\n",
              "      <th>categoria</th>\n",
              "    </tr>\n",
              "  </thead>\n",
              "  <tbody>\n",
              "    <tr>\n",
              "      <th>0</th>\n",
              "      <td>cat.0.jpg</td>\n",
              "      <td>cat</td>\n",
              "    </tr>\n",
              "    <tr>\n",
              "      <th>1</th>\n",
              "      <td>cat.1.jpg</td>\n",
              "      <td>cat</td>\n",
              "    </tr>\n",
              "    <tr>\n",
              "      <th>2</th>\n",
              "      <td>cat.10.jpg</td>\n",
              "      <td>cat</td>\n",
              "    </tr>\n",
              "    <tr>\n",
              "      <th>3</th>\n",
              "      <td>cat.100.jpg</td>\n",
              "      <td>cat</td>\n",
              "    </tr>\n",
              "    <tr>\n",
              "      <th>4</th>\n",
              "      <td>cat.1000.jpg</td>\n",
              "      <td>cat</td>\n",
              "    </tr>\n",
              "    <tr>\n",
              "      <th>...</th>\n",
              "      <td>...</td>\n",
              "      <td>...</td>\n",
              "    </tr>\n",
              "    <tr>\n",
              "      <th>3997</th>\n",
              "      <td>dog.996.jpg</td>\n",
              "      <td>dog</td>\n",
              "    </tr>\n",
              "    <tr>\n",
              "      <th>3998</th>\n",
              "      <td>dog.997.jpg</td>\n",
              "      <td>dog</td>\n",
              "    </tr>\n",
              "    <tr>\n",
              "      <th>3999</th>\n",
              "      <td>dog.998.jpg</td>\n",
              "      <td>dog</td>\n",
              "    </tr>\n",
              "    <tr>\n",
              "      <th>4000</th>\n",
              "      <td>dog.999.jpg</td>\n",
              "      <td>dog</td>\n",
              "    </tr>\n",
              "    <tr>\n",
              "      <th>4001</th>\n",
              "      <td>dogs</td>\n",
              "      <td>dogs</td>\n",
              "    </tr>\n",
              "  </tbody>\n",
              "</table>\n",
              "<p>4002 rows × 2 columns</p>\n",
              "</div>"
            ],
            "text/plain": [
              "           arquivo categoria\n",
              "0        cat.0.jpg       cat\n",
              "1        cat.1.jpg       cat\n",
              "2       cat.10.jpg       cat\n",
              "3      cat.100.jpg       cat\n",
              "4     cat.1000.jpg       cat\n",
              "...            ...       ...\n",
              "3997   dog.996.jpg       dog\n",
              "3998   dog.997.jpg       dog\n",
              "3999   dog.998.jpg       dog\n",
              "4000   dog.999.jpg       dog\n",
              "4001          dogs      dogs\n",
              "\n",
              "[4002 rows x 2 columns]"
            ]
          },
          "execution_count": 14,
          "metadata": {},
          "output_type": "execute_result"
        }
      ],
      "source": [
        "fns = os.listdir(\"E:/Datasets/Kaggle/test\")\n",
        "categorias = []\n",
        "for fn in fns:\n",
        "  categorias.append(fn.split('.')[0])\n",
        "\n",
        "dfTest = pd.DataFrame({\n",
        "  'arquivo': fns,\n",
        "  'categoria': categorias\n",
        "})\n",
        "dfTest"
      ]
    },
    {
      "cell_type": "code",
      "execution_count": 18,
      "metadata": {
        "id": "zuY_IzpW4OtX"
      },
      "outputs": [],
      "source": [
        "catDogImageClassifier = Sequential()\n",
        "catDogImageClassifier.add(Conv2D(32, (3,3), input_shape=(64,64,3)))\n",
        "catDogImageClassifier.add(Activation('relu'))\n",
        "catDogImageClassifier.add(MaxPooling2D(pool_size= (2,2)))\n",
        "catDogImageClassifier.add(Conv2D(32, (3,3)))\n",
        "catDogImageClassifier.add(Activation('relu'))\n",
        "catDogImageClassifier.add(MaxPooling2D(pool_size= (2,2)))\n",
        "catDogImageClassifier.add(Conv2D(32, (3,3)))\n",
        "catDogImageClassifier.add(Activation('relu'))\n",
        "catDogImageClassifier.add(MaxPooling2D(pool_size= (2,2)))\n",
        "catDogImageClassifier.add(Conv2D(32, (3,3)))\n",
        "catDogImageClassifier.add(Activation('relu'))\n",
        "catDogImageClassifier.add(MaxPooling2D(pool_size= (2,2)))\n",
        "catDogImageClassifier.add(Flatten())\n",
        "catDogImageClassifier.add(Dense(64))\n",
        "catDogImageClassifier.add(Activation('relu'))\n",
        "catDogImageClassifier.add(Dropout(0.5))\n",
        "catDogImageClassifier.add(Dense(1))\n",
        "catDogImageClassifier.add(Activation('sigmoid'))\n"
      ]
    },
    {
      "cell_type": "code",
      "execution_count": 19,
      "metadata": {
        "colab": {
          "base_uri": "https://localhost:8080/"
        },
        "id": "8mQK5DDo4az2",
        "outputId": "dffa34e3-c91d-4cc6-8c99-9dd6177efd58"
      },
      "outputs": [
        {
          "name": "stdout",
          "output_type": "stream",
          "text": [
            "Model: \"sequential\"\n",
            "_________________________________________________________________\n",
            " Layer (type)                Output Shape              Param #   \n",
            "=================================================================\n",
            " conv2d (Conv2D)             (None, 62, 62, 32)        896       \n",
            "                                                                 \n",
            " activation (Activation)     (None, 62, 62, 32)        0         \n",
            "                                                                 \n",
            " max_pooling2d (MaxPooling2D  (None, 31, 31, 32)       0         \n",
            " )                                                               \n",
            "                                                                 \n",
            " conv2d_1 (Conv2D)           (None, 29, 29, 32)        9248      \n",
            "                                                                 \n",
            " activation_1 (Activation)   (None, 29, 29, 32)        0         \n",
            "                                                                 \n",
            " max_pooling2d_1 (MaxPooling  (None, 14, 14, 32)       0         \n",
            " 2D)                                                             \n",
            "                                                                 \n",
            " conv2d_2 (Conv2D)           (None, 12, 12, 32)        9248      \n",
            "                                                                 \n",
            " activation_2 (Activation)   (None, 12, 12, 32)        0         \n",
            "                                                                 \n",
            " max_pooling2d_2 (MaxPooling  (None, 6, 6, 32)         0         \n",
            " 2D)                                                             \n",
            "                                                                 \n",
            " conv2d_3 (Conv2D)           (None, 4, 4, 32)          9248      \n",
            "                                                                 \n",
            " activation_3 (Activation)   (None, 4, 4, 32)          0         \n",
            "                                                                 \n",
            " max_pooling2d_3 (MaxPooling  (None, 2, 2, 32)         0         \n",
            " 2D)                                                             \n",
            "                                                                 \n",
            " flatten (Flatten)           (None, 128)               0         \n",
            "                                                                 \n",
            " dense (Dense)               (None, 64)                8256      \n",
            "                                                                 \n",
            " activation_4 (Activation)   (None, 64)                0         \n",
            "                                                                 \n",
            " dropout (Dropout)           (None, 64)                0         \n",
            "                                                                 \n",
            " dense_1 (Dense)             (None, 1)                 65        \n",
            "                                                                 \n",
            " activation_5 (Activation)   (None, 1)                 0         \n",
            "                                                                 \n",
            "=================================================================\n",
            "Total params: 36,961\n",
            "Trainable params: 36,961\n",
            "Non-trainable params: 0\n",
            "_________________________________________________________________\n"
          ]
        }
      ],
      "source": [
        "catDogImageClassifier.summary()"
      ]
    },
    {
      "cell_type": "code",
      "execution_count": 20,
      "metadata": {
        "id": "-J9UqfOEDBZS"
      },
      "outputs": [],
      "source": [
        "catDogImageClassifier.compile(optimizer='rmsprop', loss='binary_crossentropy', metrics=['accuracy'])"
      ]
    },
    {
      "cell_type": "code",
      "execution_count": 15,
      "metadata": {
        "id": "bQ3FlwhrygAd"
      },
      "outputs": [
        {
          "name": "stdout",
          "output_type": "stream",
          "text": [
            "Found 21000 validated image filenames belonging to 2 classes.\n"
          ]
        }
      ],
      "source": [
        "trainDataGen = ImageDataGenerator(rescale = 1./255, \n",
        "                                  shear_range=0.25, \n",
        "                                  zoom_range = 0.25, \n",
        "                                  horizontal_flip = True)\n",
        "trainingSet = trainDataGen.flow_from_dataframe(dfTrain, \"E:/Datasets/Kaggle/train\", \n",
        "                                  x_col = 'arquivo',\n",
        "                                  y_col = 'categoria',\n",
        "                                  target_size=(64,64), \n",
        "                                  batch_size=32, \n",
        "                                  class_mode='categorical')\n"
      ]
    },
    {
      "cell_type": "code",
      "execution_count": 16,
      "metadata": {
        "colab": {
          "base_uri": "https://localhost:8080/",
          "height": 328
        },
        "id": "fBxsbY2Y0HGF",
        "outputId": "e8673737-8383-4c3b-aa27-b98a27ec9c03"
      },
      "outputs": [
        {
          "name": "stdout",
          "output_type": "stream",
          "text": [
            "Found 4000 validated image filenames belonging to 2 classes.\n"
          ]
        },
        {
          "name": "stderr",
          "output_type": "stream",
          "text": [
            "c:\\Users\\Marcelo\\AppData\\Local\\Programs\\Python\\Python310\\lib\\site-packages\\keras\\preprocessing\\image.py:989: UserWarning: Found 2 invalid image filename(s) in x_col=\"arquivo\". These filename(s) will be ignored.\n",
            "  warnings.warn('Found {} invalid image filename(s) in x_col=\"{}\". '\n"
          ]
        }
      ],
      "source": [
        "testDataGen = ImageDataGenerator(rescale = 1./255, \n",
        "                                  shear_range=0.25, \n",
        "                                  zoom_range = 0.25, \n",
        "                                  horizontal_flip = True)\n",
        "testSet = testDataGen.flow_from_dataframe(dfTest, \"E:/Datasets/Kaggle/test\", \n",
        "                                  x_col = 'arquivo',\n",
        "                                  y_col = 'categoria',\n",
        "                                  target_size=(64,64), \n",
        "                                  batch_size=32, \n",
        "                                  class_mode='categorical')"
      ]
    },
    {
      "cell_type": "code",
      "execution_count": 21,
      "metadata": {},
      "outputs": [
        {
          "name": "stdout",
          "output_type": "stream",
          "text": [
            "Epoch 1/10\n",
            "625/625 [==============================] - ETA: 0s - loss: 0.6932 - accuracy: 0.5000WARNING:tensorflow:Your input ran out of data; interrupting training. Make sure that your dataset or generator can generate at least `steps_per_epoch * epochs` batches (in this case, 1000 batches). You may need to use the repeat() function when building your dataset.\n",
            "625/625 [==============================] - 726s 1s/step - loss: 0.6932 - accuracy: 0.5000 - val_loss: 0.6931 - val_accuracy: 0.5000\n",
            "Epoch 2/10\n",
            "625/625 [==============================] - 101s 161ms/step - loss: 0.6931 - accuracy: 0.5000\n",
            "Epoch 3/10\n",
            "625/625 [==============================] - 89s 142ms/step - loss: 0.6931 - accuracy: 0.5000\n",
            "Epoch 4/10\n",
            "625/625 [==============================] - 86s 138ms/step - loss: 0.6931 - accuracy: 0.5000\n",
            "Epoch 5/10\n",
            "625/625 [==============================] - 87s 139ms/step - loss: 0.6931 - accuracy: 0.5000\n",
            "Epoch 6/10\n",
            "625/625 [==============================] - 87s 139ms/step - loss: 0.6931 - accuracy: 0.5000\n",
            "Epoch 7/10\n",
            "625/625 [==============================] - 87s 140ms/step - loss: 0.6931 - accuracy: 0.5000\n",
            "Epoch 8/10\n",
            "625/625 [==============================] - 86s 137ms/step - loss: 0.6931 - accuracy: 0.5000\n",
            "Epoch 9/10\n",
            "625/625 [==============================] - 86s 137ms/step - loss: 0.6931 - accuracy: 0.5000\n",
            "Epoch 10/10\n",
            "625/625 [==============================] - 87s 139ms/step - loss: 0.6931 - accuracy: 0.5000\n"
          ]
        },
        {
          "data": {
            "text/plain": [
              "<keras.callbacks.History at 0x2f4c19d6980>"
            ]
          },
          "execution_count": 21,
          "metadata": {},
          "output_type": "execute_result"
        }
      ],
      "source": [
        "catDogImageClassifier.fit(x=trainingSet, steps_per_epoch=625, epochs=10, validation_data=testSet, validation_steps=1000)"
      ]
    },
    {
      "cell_type": "code",
      "execution_count": 22,
      "metadata": {},
      "outputs": [],
      "source": [
        "catDogImageClassifier.save('catDogCNNModel.h5')"
      ]
    }
  ],
  "metadata": {
    "colab": {
      "collapsed_sections": [],
      "name": "cap2Verdhan.ipynb",
      "provenance": []
    },
    "kernelspec": {
      "display_name": "Python 3.10.5 64-bit",
      "language": "python",
      "name": "python3"
    },
    "language_info": {
      "codemirror_mode": {
        "name": "ipython",
        "version": 3
      },
      "file_extension": ".py",
      "mimetype": "text/x-python",
      "name": "python",
      "nbconvert_exporter": "python",
      "pygments_lexer": "ipython3",
      "version": "3.10.5"
    },
    "vscode": {
      "interpreter": {
        "hash": "fd6160a56bbbcae204042810bac3dc36d5d2e37006cb7dd96bc9f7c6f62832ae"
      }
    }
  },
  "nbformat": 4,
  "nbformat_minor": 0
}
