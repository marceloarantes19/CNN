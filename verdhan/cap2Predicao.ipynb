{
 "cells": [
  {
   "cell_type": "code",
   "execution_count": 6,
   "metadata": {},
   "outputs": [],
   "source": [
    "from keras.models import load_model \n",
    "import numpy as np \n",
    "from keras.preprocessing import image \n",
    "from IPython.display import display\n",
    "from PIL import Image"
   ]
  },
  {
   "cell_type": "code",
   "execution_count": 2,
   "metadata": {},
   "outputs": [],
   "source": [
    "catDogImageClassifier = load_model('catDogCNNModel.h5')"
   ]
  },
  {
   "cell_type": "code",
   "execution_count": 42,
   "metadata": {},
   "outputs": [
    {
     "name": "stdout",
     "output_type": "stream",
     "text": [
      "1/1 [==============================] - 0s 16ms/step\n",
      "Cachorro 0.5075625\n"
     ]
    },
    {
     "data": {
      "image/png": "[encoded data removed]",
      "text/plain": [
       "<PIL.Image.Image image mode=RGB size=64x64>"
      ]
     },
     "execution_count": 42,
     "metadata": {},
     "output_type": "execute_result"
    }
   ],
   "source": [
    "umaImagem = Image.open('E:/Datasets/Kaggle/test/dog.103.jpg')\n",
    "umaImagem = umaImagem.resize((64,64))\n",
    "imgVet = np.asarray(umaImagem)\n",
    "imgVet = np.expand_dims(imgVet, axis=0)\n",
    "veredito = catDogImageClassifier.predict(imgVet) \n",
    "if veredito[0][0] >= 0.5:\n",
    "  prc = 'Cachorro'\n",
    "else:\n",
    "  prc = 'Gato'\n",
    "print(prc, veredito[0][0])\n",
    "umaImagem"
   ]
  }
 ],
 "metadata": {
  "kernelspec": {
   "display_name": "Python 3.10.5 64-bit",
   "language": "python",
   "name": "python3"
  },
  "language_info": {
   "codemirror_mode": {
    "name": "ipython",
    "version": 3
   },
   "file_extension": ".py",
   "mimetype": "text/x-python",
   "name": "python",
   "nbconvert_exporter": "python",
   "pygments_lexer": "ipython3",
   "version": "3.10.5"
  },
  "orig_nbformat": 4,
  "vscode": {
   "interpreter": {
    "hash": "fd6160a56bbbcae204042810bac3dc36d5d2e37006cb7dd96bc9f7c6f62832ae"
   }
  }
 },
 "nbformat": 4,
 "nbformat_minor": 2
}
